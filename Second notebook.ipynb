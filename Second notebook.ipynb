{
 "cells": [
  {
   "cell_type": "markdown",
   "id": "58aabea8-48d0-45ee-9cbf-68d51f643243",
   "metadata": {},
   "source": [
    "# Python Program  "
   ]
  },
  {
   "cell_type": "markdown",
   "id": "fdf67c13-b9f7-4dc5-aef0-82fdd1c6e0b8",
   "metadata": {},
   "source": [
    "## Displaying Calculations"
   ]
  },
  {
   "cell_type": "code",
   "execution_count": 2,
   "id": "45ff65f2-2f80-4671-845a-ec045b2ff5f1",
   "metadata": {},
   "outputs": [
    {
     "name": "stdout",
     "output_type": "stream",
     "text": [
      "10\n"
     ]
    }
   ],
   "source": [
    "print(3+3+4)"
   ]
  },
  {
   "cell_type": "markdown",
   "id": "d460dcd9-8436-4e04-95a3-1eac27ad17ed",
   "metadata": {},
   "source": [
    "## Displaying Text"
   ]
  },
  {
   "cell_type": "code",
   "execution_count": 1,
   "id": "6eef6ac4-52cf-4078-87a2-55bc95c15f30",
   "metadata": {
    "scrolled": true
   },
   "outputs": [
    {
     "name": "stdout",
     "output_type": "stream",
     "text": [
      "henry...\n"
     ]
    }
   ],
   "source": [
    "print(\"henry...\")"
   ]
  },
  {
   "cell_type": "markdown",
   "id": "cb7e04c8-9f8e-4383-8154-56cc75e17ef0",
   "metadata": {},
   "source": [
    "## Displaying Numbers"
   ]
  },
  {
   "cell_type": "code",
   "execution_count": 3,
   "id": "7ec32bb0-eafa-4cf0-a40e-03bfeb481a6b",
   "metadata": {},
   "outputs": [
    {
     "name": "stdout",
     "output_type": "stream",
     "text": [
      "6\n"
     ]
    }
   ],
   "source": [
    "print(6)"
   ]
  },
  {
   "cell_type": "code",
   "execution_count": null,
   "id": "5273c330-f2d6-4f1f-bec6-5325a553b2fe",
   "metadata": {},
   "outputs": [],
   "source": []
  }
 ],
 "metadata": {
  "kernelspec": {
   "display_name": "Python 3 (ipykernel)",
   "language": "python",
   "name": "python3"
  },
  "language_info": {
   "codemirror_mode": {
    "name": "ipython",
    "version": 3
   },
   "file_extension": ".py",
   "mimetype": "text/x-python",
   "name": "python",
   "nbconvert_exporter": "python",
   "pygments_lexer": "ipython3",
   "version": "3.12.7"
  }
 },
 "nbformat": 4,
 "nbformat_minor": 5
}
